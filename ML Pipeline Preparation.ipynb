{
 "cells": [
  {
   "cell_type": "markdown",
   "metadata": {},
   "source": [
    "# ML Pipeline Preparation\n",
    "Follow the instructions below to help you create your ML pipeline.\n",
    "### 1. Import libraries and load data from database.\n",
    "- Import Python libraries\n",
    "- Load dataset from database with [`read_sql_table`](https://pandas.pydata.org/pandas-docs/stable/generated/pandas.read_sql_table.html)\n",
    "- Define feature and target variables X and Y"
   ]
  },
  {
   "cell_type": "code",
   "execution_count": 2,
   "metadata": {},
   "outputs": [
    {
     "name": "stdout",
     "output_type": "stream",
     "text": [
      "[nltk_data] Downloading package stopwords to /root/nltk_data...\n",
      "[nltk_data]   Unzipping corpora/stopwords.zip.\n",
      "[nltk_data] Downloading package wordnet to /root/nltk_data...\n",
      "[nltk_data]   Unzipping corpora/wordnet.zip.\n",
      "[nltk_data] Downloading package punkt to /root/nltk_data...\n",
      "[nltk_data]   Unzipping tokenizers/punkt.zip.\n"
     ]
    }
   ],
   "source": [
    "# import libraries\n",
    "import pandas as pd\n",
    "import numpy as np\n",
    "from sqlalchemy import create_engine\n",
    "import re\n",
    "import nltk\n",
    "from nltk.corpus import stopwords\n",
    "from nltk.stem.wordnet import WordNetLemmatizer\n",
    "from nltk.tokenize import word_tokenize\n",
    "from nltk.stem.porter import PorterStemmer\n",
    "nltk.download('stopwords')\n",
    "nltk.download('wordnet')\n",
    "nltk.download('punkt')\n",
    "\n",
    "from sklearn.pipeline import Pipeline\n",
    "from sklearn.metrics import confusion_matrix\n",
    "from sklearn.model_selection import train_test_split\n",
    "from sklearn.ensemble import RandomForestClassifier\n",
    "from sklearn.feature_extraction.text import CountVectorizer, TfidfTransformer\n",
    "from sklearn.multioutput import MultiOutputClassifier\n",
    "from sklearn.metrics import classification_report\n",
    "from sklearn.model_selection import GridSearchCV\n",
    "from sklearn.metrics import confusion_matrix\n",
    "from sklearn.ensemble import AdaBoostClassifier\n",
    "from sklearn.neighbors import KNeighborsClassifier\n",
    "\n",
    "import pickle"
   ]
  },
  {
   "cell_type": "code",
   "execution_count": 3,
   "metadata": {},
   "outputs": [],
   "source": [
    "# load data from database\n",
    "engine = create_engine('sqlite:///InsertDatabaseName.db')\n",
    "df = pd.read_sql_table('df', engine)\n",
    "# df_sample = df.sample(n=2620)\n",
    "X = df['message'].values\n",
    "y = df.iloc[:, 4:].values\n",
    "category_names = df.iloc[:, 4:].columns"
   ]
  },
  {
   "cell_type": "markdown",
   "metadata": {},
   "source": [
    "### 2. Write a tokenization function to process your text data"
   ]
  },
  {
   "cell_type": "code",
   "execution_count": 4,
   "metadata": {},
   "outputs": [],
   "source": [
    "def tokenize(text):\n",
    "    # normalization\n",
    "    text = re.sub(r'[^a-zA-Z0-9]', ' ', text.lower())\n",
    "    \n",
    "    # tokenization\n",
    "    words = word_tokenize(text)\n",
    "    \n",
    "    # stop words\n",
    "    stop_words = stopwords.words(\"english\")\n",
    "    \n",
    "    # remove stop words\n",
    "    words = [w for w in words if w not in stopwords.words(\"english\")]\n",
    "    \n",
    "    # stemming\n",
    "    stemmed = [PorterStemmer().stem(w) for w in words]\n",
    "    \n",
    "    # words in their root fom\n",
    "    lemmed = [WordNetLemmatizer().lemmatize(w) for w in stemmed]\n",
    "    \n",
    "    return lemmed"
   ]
  },
  {
   "cell_type": "markdown",
   "metadata": {},
   "source": [
    "### 3. Build a machine learning pipeline\n",
    "This machine pipeline should take in the `message` column as input and output classification results on the other 36 categories in the dataset. You may find the [MultiOutputClassifier](http://scikit-learn.org/stable/modules/generated/sklearn.multioutput.MultiOutputClassifier.html) helpful for predicting multiple target variables."
   ]
  },
  {
   "cell_type": "code",
   "execution_count": 5,
   "metadata": {},
   "outputs": [],
   "source": [
    "# build the pipeline\n",
    "\n",
    "pipeline = Pipeline([\n",
    "        ('vect', CountVectorizer(tokenizer=tokenize)),\n",
    "        ('tfidf', TfidfTransformer()),\n",
    "        ('clf', MultiOutputClassifier(RandomForestClassifier()))\n",
    "    ])"
   ]
  },
  {
   "cell_type": "markdown",
   "metadata": {},
   "source": [
    "### 4. Train pipeline\n",
    "- Split data into train and test sets\n",
    "- Train pipeline"
   ]
  },
  {
   "cell_type": "code",
   "execution_count": 6,
   "metadata": {},
   "outputs": [
    {
     "data": {
      "text/plain": [
       "Pipeline(memory=None,\n",
       "     steps=[('vect', CountVectorizer(analyzer='word', binary=False, decode_error='strict',\n",
       "        dtype=<class 'numpy.int64'>, encoding='utf-8', input='content',\n",
       "        lowercase=True, max_df=1.0, max_features=None, min_df=1,\n",
       "        ngram_range=(1, 1), preprocessor=None, stop_words=None,\n",
       "        strip...oob_score=False, random_state=None, verbose=0,\n",
       "            warm_start=False),\n",
       "           n_jobs=1))])"
      ]
     },
     "execution_count": 6,
     "metadata": {},
     "output_type": "execute_result"
    }
   ],
   "source": [
    "# separating the data using train_test_split\n",
    "\n",
    "X_train, X_test, y_train, y_test = train_test_split(X, y)\n",
    "\n",
    "pipeline.fit(X_train, y_train)"
   ]
  },
  {
   "cell_type": "markdown",
   "metadata": {},
   "source": [
    "### 5. Test your model\n",
    "Report the f1 score, precision and recall for each output category of the dataset. You can do this by iterating through the columns and calling sklearn's `classification_report` on each."
   ]
  },
  {
   "cell_type": "code",
   "execution_count": 7,
   "metadata": {},
   "outputs": [],
   "source": [
    "# predict the values\n",
    "y_pred = pipeline.predict(X_test)"
   ]
  },
  {
   "cell_type": "code",
   "execution_count": 8,
   "metadata": {
    "scrolled": false
   },
   "outputs": [
    {
     "name": "stdout",
     "output_type": "stream",
     "text": [
      "                        precision    recall  f1-score   support\n",
      "\n",
      "               related       0.85      0.92      0.88      4957\n",
      "               request       0.81      0.44      0.57      1112\n",
      "                 offer       0.00      0.00      0.00        27\n",
      "           aid_related       0.75      0.63      0.68      2711\n",
      "          medical_help       0.67      0.08      0.15       562\n",
      "      medical_products       0.61      0.06      0.10       353\n",
      "     search_and_rescue       0.57      0.04      0.08       191\n",
      "              security       0.50      0.02      0.04       130\n",
      "              military       0.66      0.14      0.23       219\n",
      "           child_alone       0.00      0.00      0.00         0\n",
      "                 water       0.90      0.38      0.54       413\n",
      "                  food       0.86      0.50      0.63       721\n",
      "               shelter       0.81      0.30      0.44       587\n",
      "              clothing       0.75      0.10      0.18        89\n",
      "                 money       1.00      0.01      0.01       149\n",
      "        missing_people       0.00      0.00      0.00        68\n",
      "              refugees       0.56      0.10      0.17       205\n",
      "                 death       0.83      0.17      0.28       306\n",
      "             other_aid       0.43      0.04      0.07       842\n",
      "infrastructure_related       0.10      0.00      0.00       426\n",
      "             transport       0.60      0.08      0.14       294\n",
      "             buildings       0.79      0.14      0.24       352\n",
      "           electricity       0.50      0.05      0.08       132\n",
      "                 tools       0.00      0.00      0.00        42\n",
      "             hospitals       1.00      0.01      0.03        67\n",
      "                 shops       0.00      0.00      0.00        36\n",
      "           aid_centers       0.00      0.00      0.00        92\n",
      "  other_infrastructure       0.10      0.00      0.01       275\n",
      "       weather_related       0.83      0.62      0.71      1812\n",
      "                floods       0.89      0.29      0.44       569\n",
      "                 storm       0.73      0.41      0.52       570\n",
      "                  fire       0.00      0.00      0.00        70\n",
      "            earthquake       0.89      0.72      0.80       593\n",
      "                  cold       0.82      0.10      0.17       146\n",
      "         other_weather       0.50      0.03      0.05       318\n",
      "         direct_report       0.75      0.34      0.47      1294\n",
      "\n",
      "           avg / total       0.74      0.49      0.54     20730\n",
      "\n"
     ]
    },
    {
     "name": "stderr",
     "output_type": "stream",
     "text": [
      "/opt/conda/lib/python3.6/site-packages/sklearn/metrics/classification.py:1135: UndefinedMetricWarning: Precision and F-score are ill-defined and being set to 0.0 in labels with no predicted samples.\n",
      "  'precision', 'predicted', average, warn_for)\n",
      "/opt/conda/lib/python3.6/site-packages/sklearn/metrics/classification.py:1137: UndefinedMetricWarning: Recall and F-score are ill-defined and being set to 0.0 in labels with no true samples.\n",
      "  'recall', 'true', average, warn_for)\n"
     ]
    }
   ],
   "source": [
    "# classification report\n",
    "print(classification_report(y_test, y_pred, target_names=category_names));"
   ]
  },
  {
   "cell_type": "markdown",
   "metadata": {},
   "source": [
    "### 6. Improve your model\n",
    "Use grid search to find better parameters. "
   ]
  },
  {
   "cell_type": "code",
   "execution_count": 9,
   "metadata": {
    "scrolled": true
   },
   "outputs": [
    {
     "name": "stdout",
     "output_type": "stream",
     "text": [
      "Fitting 3 folds for each of 12 candidates, totalling 36 fits\n",
      "[CV] clf__estimator__criterion=gini, clf__estimator__max_depth=2, clf__estimator__n_estimators=20 \n",
      "[CV]  clf__estimator__criterion=gini, clf__estimator__max_depth=2, clf__estimator__n_estimators=20, total= 1.7min\n",
      "[CV] clf__estimator__criterion=gini, clf__estimator__max_depth=2, clf__estimator__n_estimators=20 \n"
     ]
    },
    {
     "name": "stderr",
     "output_type": "stream",
     "text": [
      "[Parallel(n_jobs=-1)]: Done   1 out of   1 | elapsed:  2.8min remaining:    0.0s\n"
     ]
    },
    {
     "name": "stdout",
     "output_type": "stream",
     "text": [
      "[CV]  clf__estimator__criterion=gini, clf__estimator__max_depth=2, clf__estimator__n_estimators=20, total= 1.7min\n",
      "[CV] clf__estimator__criterion=gini, clf__estimator__max_depth=2, clf__estimator__n_estimators=20 \n",
      "[CV]  clf__estimator__criterion=gini, clf__estimator__max_depth=2, clf__estimator__n_estimators=20, total= 1.7min\n",
      "[CV] clf__estimator__criterion=gini, clf__estimator__max_depth=2, clf__estimator__n_estimators=50 \n",
      "[CV]  clf__estimator__criterion=gini, clf__estimator__max_depth=2, clf__estimator__n_estimators=50, total= 1.8min\n",
      "[CV] clf__estimator__criterion=gini, clf__estimator__max_depth=2, clf__estimator__n_estimators=50 \n",
      "[CV]  clf__estimator__criterion=gini, clf__estimator__max_depth=2, clf__estimator__n_estimators=50, total= 1.8min\n",
      "[CV] clf__estimator__criterion=gini, clf__estimator__max_depth=2, clf__estimator__n_estimators=50 \n",
      "[CV]  clf__estimator__criterion=gini, clf__estimator__max_depth=2, clf__estimator__n_estimators=50, total= 1.8min\n",
      "[CV] clf__estimator__criterion=gini, clf__estimator__max_depth=5, clf__estimator__n_estimators=20 \n",
      "[CV]  clf__estimator__criterion=gini, clf__estimator__max_depth=5, clf__estimator__n_estimators=20, total= 1.7min\n",
      "[CV] clf__estimator__criterion=gini, clf__estimator__max_depth=5, clf__estimator__n_estimators=20 \n",
      "[CV]  clf__estimator__criterion=gini, clf__estimator__max_depth=5, clf__estimator__n_estimators=20, total= 1.7min\n",
      "[CV] clf__estimator__criterion=gini, clf__estimator__max_depth=5, clf__estimator__n_estimators=20 \n",
      "[CV]  clf__estimator__criterion=gini, clf__estimator__max_depth=5, clf__estimator__n_estimators=20, total= 1.7min\n",
      "[CV] clf__estimator__criterion=gini, clf__estimator__max_depth=5, clf__estimator__n_estimators=50 \n",
      "[CV]  clf__estimator__criterion=gini, clf__estimator__max_depth=5, clf__estimator__n_estimators=50, total= 1.8min\n",
      "[CV] clf__estimator__criterion=gini, clf__estimator__max_depth=5, clf__estimator__n_estimators=50 \n",
      "[CV]  clf__estimator__criterion=gini, clf__estimator__max_depth=5, clf__estimator__n_estimators=50, total= 1.8min\n",
      "[CV] clf__estimator__criterion=gini, clf__estimator__max_depth=5, clf__estimator__n_estimators=50 \n",
      "[CV]  clf__estimator__criterion=gini, clf__estimator__max_depth=5, clf__estimator__n_estimators=50, total= 1.8min\n",
      "[CV] clf__estimator__criterion=gini, clf__estimator__max_depth=None, clf__estimator__n_estimators=20 \n",
      "[CV]  clf__estimator__criterion=gini, clf__estimator__max_depth=None, clf__estimator__n_estimators=20, total= 2.8min\n",
      "[CV] clf__estimator__criterion=gini, clf__estimator__max_depth=None, clf__estimator__n_estimators=20 \n",
      "[CV]  clf__estimator__criterion=gini, clf__estimator__max_depth=None, clf__estimator__n_estimators=20, total= 2.7min\n",
      "[CV] clf__estimator__criterion=gini, clf__estimator__max_depth=None, clf__estimator__n_estimators=20 \n",
      "[CV]  clf__estimator__criterion=gini, clf__estimator__max_depth=None, clf__estimator__n_estimators=20, total= 2.8min\n",
      "[CV] clf__estimator__criterion=gini, clf__estimator__max_depth=None, clf__estimator__n_estimators=50 \n",
      "[CV]  clf__estimator__criterion=gini, clf__estimator__max_depth=None, clf__estimator__n_estimators=50, total= 4.5min\n",
      "[CV] clf__estimator__criterion=gini, clf__estimator__max_depth=None, clf__estimator__n_estimators=50 \n",
      "[CV]  clf__estimator__criterion=gini, clf__estimator__max_depth=None, clf__estimator__n_estimators=50, total= 4.4min\n",
      "[CV] clf__estimator__criterion=gini, clf__estimator__max_depth=None, clf__estimator__n_estimators=50 \n",
      "[CV]  clf__estimator__criterion=gini, clf__estimator__max_depth=None, clf__estimator__n_estimators=50, total= 4.5min\n",
      "[CV] clf__estimator__criterion=entropy, clf__estimator__max_depth=2, clf__estimator__n_estimators=20 \n",
      "[CV]  clf__estimator__criterion=entropy, clf__estimator__max_depth=2, clf__estimator__n_estimators=20, total= 1.7min\n",
      "[CV] clf__estimator__criterion=entropy, clf__estimator__max_depth=2, clf__estimator__n_estimators=20 \n",
      "[CV]  clf__estimator__criterion=entropy, clf__estimator__max_depth=2, clf__estimator__n_estimators=20, total= 1.7min\n",
      "[CV] clf__estimator__criterion=entropy, clf__estimator__max_depth=2, clf__estimator__n_estimators=20 \n",
      "[CV]  clf__estimator__criterion=entropy, clf__estimator__max_depth=2, clf__estimator__n_estimators=20, total= 1.7min\n",
      "[CV] clf__estimator__criterion=entropy, clf__estimator__max_depth=2, clf__estimator__n_estimators=50 \n",
      "[CV]  clf__estimator__criterion=entropy, clf__estimator__max_depth=2, clf__estimator__n_estimators=50, total= 1.8min\n",
      "[CV] clf__estimator__criterion=entropy, clf__estimator__max_depth=2, clf__estimator__n_estimators=50 \n",
      "[CV]  clf__estimator__criterion=entropy, clf__estimator__max_depth=2, clf__estimator__n_estimators=50, total= 1.8min\n",
      "[CV] clf__estimator__criterion=entropy, clf__estimator__max_depth=2, clf__estimator__n_estimators=50 \n",
      "[CV]  clf__estimator__criterion=entropy, clf__estimator__max_depth=2, clf__estimator__n_estimators=50, total= 1.8min\n",
      "[CV] clf__estimator__criterion=entropy, clf__estimator__max_depth=5, clf__estimator__n_estimators=20 \n",
      "[CV]  clf__estimator__criterion=entropy, clf__estimator__max_depth=5, clf__estimator__n_estimators=20, total= 1.7min\n",
      "[CV] clf__estimator__criterion=entropy, clf__estimator__max_depth=5, clf__estimator__n_estimators=20 \n",
      "[CV]  clf__estimator__criterion=entropy, clf__estimator__max_depth=5, clf__estimator__n_estimators=20, total= 1.7min\n",
      "[CV] clf__estimator__criterion=entropy, clf__estimator__max_depth=5, clf__estimator__n_estimators=20 \n",
      "[CV]  clf__estimator__criterion=entropy, clf__estimator__max_depth=5, clf__estimator__n_estimators=20, total= 1.7min\n",
      "[CV] clf__estimator__criterion=entropy, clf__estimator__max_depth=5, clf__estimator__n_estimators=50 \n",
      "[CV]  clf__estimator__criterion=entropy, clf__estimator__max_depth=5, clf__estimator__n_estimators=50, total= 1.8min\n",
      "[CV] clf__estimator__criterion=entropy, clf__estimator__max_depth=5, clf__estimator__n_estimators=50 \n",
      "[CV]  clf__estimator__criterion=entropy, clf__estimator__max_depth=5, clf__estimator__n_estimators=50, total= 1.8min\n",
      "[CV] clf__estimator__criterion=entropy, clf__estimator__max_depth=5, clf__estimator__n_estimators=50 \n",
      "[CV]  clf__estimator__criterion=entropy, clf__estimator__max_depth=5, clf__estimator__n_estimators=50, total= 1.8min\n",
      "[CV] clf__estimator__criterion=entropy, clf__estimator__max_depth=None, clf__estimator__n_estimators=20 \n",
      "[CV]  clf__estimator__criterion=entropy, clf__estimator__max_depth=None, clf__estimator__n_estimators=20, total= 2.8min\n",
      "[CV] clf__estimator__criterion=entropy, clf__estimator__max_depth=None, clf__estimator__n_estimators=20 \n",
      "[CV]  clf__estimator__criterion=entropy, clf__estimator__max_depth=None, clf__estimator__n_estimators=20, total= 2.8min\n",
      "[CV] clf__estimator__criterion=entropy, clf__estimator__max_depth=None, clf__estimator__n_estimators=20 \n",
      "[CV]  clf__estimator__criterion=entropy, clf__estimator__max_depth=None, clf__estimator__n_estimators=20, total= 2.8min\n",
      "[CV] clf__estimator__criterion=entropy, clf__estimator__max_depth=None, clf__estimator__n_estimators=50 \n",
      "[CV]  clf__estimator__criterion=entropy, clf__estimator__max_depth=None, clf__estimator__n_estimators=50, total= 4.5min\n",
      "[CV] clf__estimator__criterion=entropy, clf__estimator__max_depth=None, clf__estimator__n_estimators=50 \n",
      "[CV]  clf__estimator__criterion=entropy, clf__estimator__max_depth=None, clf__estimator__n_estimators=50, total= 4.5min\n",
      "[CV] clf__estimator__criterion=entropy, clf__estimator__max_depth=None, clf__estimator__n_estimators=50 \n",
      "[CV]  clf__estimator__criterion=entropy, clf__estimator__max_depth=None, clf__estimator__n_estimators=50, total= 4.5min\n"
     ]
    },
    {
     "name": "stderr",
     "output_type": "stream",
     "text": [
      "[Parallel(n_jobs=-1)]: Done  36 out of  36 | elapsed: 127.8min finished\n"
     ]
    },
    {
     "data": {
      "text/plain": [
       "GridSearchCV(cv=None, error_score='raise',\n",
       "       estimator=Pipeline(memory=None,\n",
       "     steps=[('vect', CountVectorizer(analyzer='word', binary=False, decode_error='strict',\n",
       "        dtype=<class 'numpy.int64'>, encoding='utf-8', input='content',\n",
       "        lowercase=True, max_df=1.0, max_features=None, min_df=1,\n",
       "        ngram_range=(1, 1), preprocessor=None, stop_words=None,\n",
       "        strip...oob_score=False, random_state=None, verbose=0,\n",
       "            warm_start=False),\n",
       "           n_jobs=1))]),\n",
       "       fit_params=None, iid=True, n_jobs=-1,\n",
       "       param_grid={'clf__estimator__n_estimators': [20, 50], 'clf__estimator__criterion': ['gini', 'entropy'], 'clf__estimator__max_depth': [2, 5, None]},\n",
       "       pre_dispatch='2*n_jobs', refit=True, return_train_score='warn',\n",
       "       scoring=None, verbose=2)"
      ]
     },
     "execution_count": 9,
     "metadata": {},
     "output_type": "execute_result"
    }
   ],
   "source": [
    "# using GridSearchCV to find better parameters to use\n",
    "parameters = {'clf__estimator__n_estimators': [20, 50],\n",
    "                'clf__estimator__criterion' :['gini', 'entropy'],\n",
    "                'clf__estimator__max_depth' : [2, 5, None],\n",
    "                }\n",
    "\n",
    "cv = GridSearchCV(pipeline, param_grid=parameters, n_jobs=-1, verbose=2) \n",
    "cv.fit(X_train, y_train)"
   ]
  },
  {
   "cell_type": "code",
   "execution_count": 10,
   "metadata": {},
   "outputs": [
    {
     "data": {
      "text/plain": [
       "{'clf__estimator__criterion': 'gini',\n",
       " 'clf__estimator__max_depth': None,\n",
       " 'clf__estimator__n_estimators': 50}"
      ]
     },
     "execution_count": 10,
     "metadata": {},
     "output_type": "execute_result"
    }
   ],
   "source": [
    "# optimal parameters\n",
    "cv.best_params_"
   ]
  },
  {
   "cell_type": "markdown",
   "metadata": {},
   "source": [
    "### 7. Test your model\n",
    "Show the accuracy, precision, and recall of the tuned model.  \n",
    "\n",
    "Since this project focuses on code quality, process, and  pipelines, there is no minimum performance metric needed to pass. However, make sure to fine tune your models for accuracy, precision and recall to make your project stand out - especially for your portfolio!"
   ]
  },
  {
   "cell_type": "code",
   "execution_count": 11,
   "metadata": {},
   "outputs": [
    {
     "name": "stdout",
     "output_type": "stream",
     "text": [
      "                        precision    recall  f1-score   support\n",
      "\n",
      "               related       0.84      0.95      0.89      4957\n",
      "               request       0.83      0.50      0.62      1112\n",
      "                 offer       0.00      0.00      0.00        27\n",
      "           aid_related       0.77      0.71      0.74      2711\n",
      "          medical_help       0.58      0.06      0.11       562\n",
      "      medical_products       0.82      0.09      0.16       353\n",
      "     search_and_rescue       0.80      0.02      0.04       191\n",
      "              security       0.50      0.02      0.03       130\n",
      "              military       0.65      0.06      0.11       219\n",
      "           child_alone       0.00      0.00      0.00         0\n",
      "                 water       0.92      0.35      0.51       413\n",
      "                  food       0.87      0.61      0.72       721\n",
      "               shelter       0.84      0.37      0.52       587\n",
      "              clothing       0.67      0.11      0.19        89\n",
      "                 money       1.00      0.01      0.03       149\n",
      "        missing_people       0.00      0.00      0.00        68\n",
      "              refugees       0.57      0.02      0.04       205\n",
      "                 death       0.85      0.15      0.25       306\n",
      "             other_aid       0.53      0.03      0.06       842\n",
      "infrastructure_related       0.00      0.00      0.00       426\n",
      "             transport       0.74      0.09      0.16       294\n",
      "             buildings       0.83      0.17      0.28       352\n",
      "           electricity       0.62      0.04      0.07       132\n",
      "                 tools       0.00      0.00      0.00        42\n",
      "             hospitals       1.00      0.01      0.03        67\n",
      "                 shops       0.00      0.00      0.00        36\n",
      "           aid_centers       0.00      0.00      0.00        92\n",
      "  other_infrastructure       0.17      0.00      0.01       275\n",
      "       weather_related       0.85      0.70      0.77      1812\n",
      "                floods       0.91      0.52      0.66       569\n",
      "                 storm       0.74      0.52      0.61       570\n",
      "                  fire       1.00      0.01      0.03        70\n",
      "            earthquake       0.89      0.79      0.84       593\n",
      "                  cold       0.81      0.09      0.16       146\n",
      "         other_weather       0.42      0.03      0.05       318\n",
      "         direct_report       0.80      0.36      0.50      1294\n",
      "\n",
      "           avg / total       0.76      0.53      0.57     20730\n",
      "\n"
     ]
    },
    {
     "name": "stderr",
     "output_type": "stream",
     "text": [
      "/opt/conda/lib/python3.6/site-packages/sklearn/metrics/classification.py:1135: UndefinedMetricWarning: Precision and F-score are ill-defined and being set to 0.0 in labels with no predicted samples.\n",
      "  'precision', 'predicted', average, warn_for)\n",
      "/opt/conda/lib/python3.6/site-packages/sklearn/metrics/classification.py:1137: UndefinedMetricWarning: Recall and F-score are ill-defined and being set to 0.0 in labels with no true samples.\n",
      "  'recall', 'true', average, warn_for)\n"
     ]
    }
   ],
   "source": [
    "# using the optimized parameters to see if the model improved\n",
    "cv_pred = cv.predict(X_test)\n",
    "print(classification_report(y_test, cv_pred, target_names=category_names));"
   ]
  },
  {
   "cell_type": "markdown",
   "metadata": {},
   "source": [
    "Looks like we got an improvement on all metrics except precision"
   ]
  },
  {
   "cell_type": "markdown",
   "metadata": {},
   "source": [
    "### 8. Try improving your model further. Here are a few ideas:\n",
    "* try other machine learning algorithms\n",
    "* add other features besides the TF-IDF"
   ]
  },
  {
   "cell_type": "code",
   "execution_count": 12,
   "metadata": {},
   "outputs": [
    {
     "name": "stdout",
     "output_type": "stream",
     "text": [
      "                        precision    recall  f1-score   support\n",
      "\n",
      "               related       0.80      0.97      0.88      4957\n",
      "               request       0.76      0.53      0.63      1112\n",
      "                 offer       0.00      0.00      0.00        27\n",
      "           aid_related       0.77      0.64      0.70      2711\n",
      "          medical_help       0.61      0.26      0.36       562\n",
      "      medical_products       0.65      0.31      0.42       353\n",
      "     search_and_rescue       0.60      0.19      0.29       191\n",
      "              security       0.26      0.05      0.08       130\n",
      "              military       0.54      0.27      0.36       219\n",
      "           child_alone       0.00      0.00      0.00         0\n",
      "                 water       0.79      0.66      0.72       413\n",
      "                  food       0.80      0.70      0.74       721\n",
      "               shelter       0.76      0.57      0.65       587\n",
      "              clothing       0.64      0.49      0.56        89\n",
      "                 money       0.56      0.34      0.42       149\n",
      "        missing_people       0.50      0.21      0.29        68\n",
      "              refugees       0.56      0.24      0.34       205\n",
      "                 death       0.68      0.35      0.46       306\n",
      "             other_aid       0.51      0.15      0.23       842\n",
      "infrastructure_related       0.46      0.11      0.18       426\n",
      "             transport       0.71      0.23      0.35       294\n",
      "             buildings       0.66      0.39      0.49       352\n",
      "           electricity       0.56      0.24      0.34       132\n",
      "                 tools       0.00      0.00      0.00        42\n",
      "             hospitals       0.15      0.04      0.07        67\n",
      "                 shops       0.17      0.03      0.05        36\n",
      "           aid_centers       0.31      0.05      0.09        92\n",
      "  other_infrastructure       0.46      0.12      0.19       275\n",
      "       weather_related       0.85      0.68      0.76      1812\n",
      "                floods       0.87      0.56      0.68       569\n",
      "                 storm       0.74      0.48      0.58       570\n",
      "                  fire       0.50      0.19      0.27        70\n",
      "            earthquake       0.88      0.79      0.83       593\n",
      "                  cold       0.63      0.31      0.41       146\n",
      "         other_weather       0.47      0.14      0.21       318\n",
      "         direct_report       0.67      0.39      0.49      1294\n",
      "\n",
      "           avg / total       0.72      0.59      0.63     20730\n",
      "\n"
     ]
    },
    {
     "name": "stderr",
     "output_type": "stream",
     "text": [
      "/opt/conda/lib/python3.6/site-packages/sklearn/metrics/classification.py:1135: UndefinedMetricWarning: Precision and F-score are ill-defined and being set to 0.0 in labels with no predicted samples.\n",
      "  'precision', 'predicted', average, warn_for)\n",
      "/opt/conda/lib/python3.6/site-packages/sklearn/metrics/classification.py:1137: UndefinedMetricWarning: Recall and F-score are ill-defined and being set to 0.0 in labels with no true samples.\n",
      "  'recall', 'true', average, warn_for)\n"
     ]
    },
    {
     "data": {
      "text/plain": [
       "''"
      ]
     },
     "execution_count": 12,
     "metadata": {},
     "output_type": "execute_result"
    }
   ],
   "source": [
    "# using AdaBoostClassifier\n",
    "\n",
    "pipeline2 = Pipeline([\n",
    "        ('vect', CountVectorizer(tokenizer=tokenize)),\n",
    "        ('tfidf', TfidfTransformer()),\n",
    "        ('clf', MultiOutputClassifier(AdaBoostClassifier()))\n",
    "    ])\n",
    "\n",
    "pipeline2.fit(X_train, y_train)\n",
    "y_pred_ada = pipeline2.predict(X_test)\n",
    "print(classification_report(y_test, y_pred_ada, target_names=category_names))\n",
    ";"
   ]
  },
  {
   "cell_type": "code",
   "execution_count": 14,
   "metadata": {},
   "outputs": [
    {
     "name": "stdout",
     "output_type": "stream",
     "text": [
      "                        precision    recall  f1-score   support\n",
      "\n",
      "               related       0.82      0.93      0.87      4957\n",
      "               request       0.71      0.55      0.62      1112\n",
      "                 offer       0.00      0.00      0.00        27\n",
      "           aid_related       0.73      0.51      0.60      2711\n",
      "          medical_help       0.62      0.09      0.16       562\n",
      "      medical_products       0.62      0.11      0.19       353\n",
      "     search_and_rescue       0.80      0.04      0.08       191\n",
      "              security       0.00      0.00      0.00       130\n",
      "              military       0.65      0.07      0.12       219\n",
      "           child_alone       0.00      0.00      0.00         0\n",
      "                 water       0.77      0.48      0.59       413\n",
      "                  food       0.79      0.52      0.62       721\n",
      "               shelter       0.76      0.29      0.42       587\n",
      "              clothing       0.62      0.18      0.28        89\n",
      "                 money       0.88      0.09      0.17       149\n",
      "        missing_people       0.67      0.03      0.06        68\n",
      "              refugees       0.42      0.05      0.09       205\n",
      "                 death       0.71      0.21      0.32       306\n",
      "             other_aid       0.47      0.11      0.18       842\n",
      "infrastructure_related       0.31      0.02      0.04       426\n",
      "             transport       0.81      0.07      0.13       294\n",
      "             buildings       0.73      0.15      0.25       352\n",
      "           electricity       0.80      0.09      0.16       132\n",
      "                 tools       0.00      0.00      0.00        42\n",
      "             hospitals       0.00      0.00      0.00        67\n",
      "                 shops       0.00      0.00      0.00        36\n",
      "           aid_centers       0.00      0.00      0.00        92\n",
      "  other_infrastructure       0.23      0.01      0.02       275\n",
      "       weather_related       0.80      0.47      0.60      1812\n",
      "                floods       0.82      0.26      0.39       569\n",
      "                 storm       0.72      0.36      0.48       570\n",
      "                  fire       0.71      0.07      0.13        70\n",
      "            earthquake       0.84      0.55      0.67       593\n",
      "                  cold       0.64      0.06      0.11       146\n",
      "         other_weather       0.41      0.05      0.08       318\n",
      "         direct_report       0.65      0.40      0.49      1294\n",
      "\n",
      "           avg / total       0.71      0.47      0.53     20730\n",
      "\n"
     ]
    },
    {
     "name": "stderr",
     "output_type": "stream",
     "text": [
      "/opt/conda/lib/python3.6/site-packages/sklearn/metrics/classification.py:1135: UndefinedMetricWarning: Precision and F-score are ill-defined and being set to 0.0 in labels with no predicted samples.\n",
      "  'precision', 'predicted', average, warn_for)\n",
      "/opt/conda/lib/python3.6/site-packages/sklearn/metrics/classification.py:1137: UndefinedMetricWarning: Recall and F-score are ill-defined and being set to 0.0 in labels with no true samples.\n",
      "  'recall', 'true', average, warn_for)\n"
     ]
    }
   ],
   "source": [
    "# using KNeighborsClassifier\n",
    "\n",
    "pipeline3 = Pipeline([\n",
    "        ('vect', CountVectorizer(tokenizer=tokenize)),\n",
    "        ('tfidf', TfidfTransformer(use_idf=False)),\n",
    "        ('clf', MultiOutputClassifier(KNeighborsClassifier()))\n",
    "    ])\n",
    "\n",
    "pipeline3.fit(X_train, y_train)\n",
    "y_pred_kn = pipeline3.predict(X_test)\n",
    "print(classification_report(y_test, y_pred_kn, target_names=category_names));"
   ]
  },
  {
   "cell_type": "markdown",
   "metadata": {},
   "source": [
    "It does look lika AdaBoost is giving us the best results"
   ]
  },
  {
   "cell_type": "markdown",
   "metadata": {},
   "source": [
    "### 9. Export your model as a pickle file"
   ]
  },
  {
   "cell_type": "code",
   "execution_count": 43,
   "metadata": {},
   "outputs": [],
   "source": [
    "# pickle the chosen model\n",
    "with open('classifier.pkl', 'wb') as f:\n",
    "    pickle.dump(pipeline2, f)"
   ]
  },
  {
   "cell_type": "code",
   "execution_count": 29,
   "metadata": {},
   "outputs": [],
   "source": [
    "with open('classifier', 'rb') as f:\n",
    "    dm = pickle.load(f)"
   ]
  },
  {
   "cell_type": "code",
   "execution_count": 42,
   "metadata": {},
   "outputs": [
    {
     "data": {
      "text/plain": [
       "'/home/workspace'"
      ]
     },
     "execution_count": 42,
     "metadata": {},
     "output_type": "execute_result"
    }
   ],
   "source": [
    "pwd"
   ]
  },
  {
   "cell_type": "markdown",
   "metadata": {},
   "source": [
    "### 10. Use this notebook to complete `train.py`\n",
    "Use the template file attached in the Resources folder to write a script that runs the steps above to create a database and export a model based on a new dataset specified by the user."
   ]
  },
  {
   "cell_type": "code",
   "execution_count": null,
   "metadata": {},
   "outputs": [],
   "source": []
  }
 ],
 "metadata": {
  "kernelspec": {
   "display_name": "Python 3",
   "language": "python",
   "name": "python3"
  },
  "language_info": {
   "codemirror_mode": {
    "name": "ipython",
    "version": 3
   },
   "file_extension": ".py",
   "mimetype": "text/x-python",
   "name": "python",
   "nbconvert_exporter": "python",
   "pygments_lexer": "ipython3",
   "version": "3.6.3"
  }
 },
 "nbformat": 4,
 "nbformat_minor": 2
}
